{
 "cells": [
  {
   "cell_type": "code",
   "execution_count": 58,
   "metadata": {},
   "outputs": [],
   "source": [
    "import pandas as pd\n",
    "import numpy as np\n",
    "import sklearn as sl\n",
    "import matplotlib.pyplot as pl"
   ]
  },
  {
   "cell_type": "code",
   "execution_count": 59,
   "metadata": {},
   "outputs": [],
   "source": [
    "data=pd.read_csv(\"vacunaciones.csv\")"
   ]
  },
  {
   "cell_type": "code",
   "execution_count": 60,
   "metadata": {},
   "outputs": [
    {
     "name": "stdout",
     "output_type": "stream",
     "text": [
      "      country iso_code        date  total_vaccinations  people_vaccinated  \\\n",
      "0     Albania      ALB  2021-01-10                 0.0                0.0   \n",
      "1     Albania      ALB  2021-01-11                 NaN                NaN   \n",
      "2     Albania      ALB  2021-01-12               128.0              128.0   \n",
      "3     Albania      ALB  2021-01-13               188.0              188.0   \n",
      "4     Albania      ALB  2021-01-14               266.0              266.0   \n",
      "...       ...      ...         ...                 ...                ...   \n",
      "3203    Wales      NaN  2021-02-10            687892.0           684097.0   \n",
      "3204    Wales      NaN  2021-02-11            719954.0           715944.0   \n",
      "3205    Wales      NaN  2021-02-12            753669.0           749445.0   \n",
      "3206    Wales      NaN  2021-02-13            776224.0           771651.0   \n",
      "3207    Wales      NaN  2021-02-14            790211.0           784809.0   \n",
      "\n",
      "      people_fully_vaccinated  daily_vaccinations_raw  daily_vaccinations  \\\n",
      "0                         NaN                     NaN                 NaN   \n",
      "1                         NaN                     NaN                64.0   \n",
      "2                         NaN                     NaN                64.0   \n",
      "3                         NaN                    60.0                63.0   \n",
      "4                         NaN                    78.0                66.0   \n",
      "...                       ...                     ...                 ...   \n",
      "3203                   3795.0                 28786.0             28015.0   \n",
      "3204                   4010.0                 32062.0             27897.0   \n",
      "3205                   4224.0                 33715.0             27743.0   \n",
      "3206                   4573.0                 22555.0             26285.0   \n",
      "3207                   5402.0                 13987.0             26206.0   \n",
      "\n",
      "      total_vaccinations_per_hundred  people_vaccinated_per_hundred  \\\n",
      "0                               0.00                           0.00   \n",
      "1                                NaN                            NaN   \n",
      "2                               0.00                           0.00   \n",
      "3                               0.01                           0.01   \n",
      "4                               0.01                           0.01   \n",
      "...                              ...                            ...   \n",
      "3203                           21.82                          21.70   \n",
      "3204                           22.83                          22.71   \n",
      "3205                           23.90                          23.77   \n",
      "3206                           24.62                          24.47   \n",
      "3207                           25.06                          24.89   \n",
      "\n",
      "      people_fully_vaccinated_per_hundred  daily_vaccinations_per_million  \\\n",
      "0                                     NaN                             NaN   \n",
      "1                                     NaN                            22.0   \n",
      "2                                     NaN                            22.0   \n",
      "3                                     NaN                            22.0   \n",
      "4                                     NaN                            23.0   \n",
      "...                                   ...                             ...   \n",
      "3203                                 0.12                          8886.0   \n",
      "3204                                 0.13                          8848.0   \n",
      "3205                                 0.13                          8799.0   \n",
      "3206                                 0.15                          8337.0   \n",
      "3207                                 0.17                          8312.0   \n",
      "\n",
      "                                 vaccines                       source_name  \\\n",
      "0                         Pfizer/BioNTech                Ministry of Health   \n",
      "1                         Pfizer/BioNTech                Ministry of Health   \n",
      "2                         Pfizer/BioNTech                Ministry of Health   \n",
      "3                         Pfizer/BioNTech                Ministry of Health   \n",
      "4                         Pfizer/BioNTech                Ministry of Health   \n",
      "...                                   ...                               ...   \n",
      "3203  Oxford/AstraZeneca, Pfizer/BioNTech  Government of the United Kingdom   \n",
      "3204  Oxford/AstraZeneca, Pfizer/BioNTech  Government of the United Kingdom   \n",
      "3205  Oxford/AstraZeneca, Pfizer/BioNTech  Government of the United Kingdom   \n",
      "3206  Oxford/AstraZeneca, Pfizer/BioNTech  Government of the United Kingdom   \n",
      "3207  Oxford/AstraZeneca, Pfizer/BioNTech  Government of the United Kingdom   \n",
      "\n",
      "                                         source_website  \n",
      "0     https://shendetesia.gov.al/vaksinimi-anticovid...  \n",
      "1     https://shendetesia.gov.al/vaksinimi-anticovid...  \n",
      "2     https://shendetesia.gov.al/vaksinimi-anticovid...  \n",
      "3     https://shendetesia.gov.al/vaksinimi-anticovid...  \n",
      "4     https://shendetesia.gov.al/vaksinimi-anticovid...  \n",
      "...                                                 ...  \n",
      "3203  https://coronavirus.data.gov.uk/details/health...  \n",
      "3204  https://coronavirus.data.gov.uk/details/health...  \n",
      "3205  https://coronavirus.data.gov.uk/details/health...  \n",
      "3206  https://coronavirus.data.gov.uk/details/health...  \n",
      "3207  https://coronavirus.data.gov.uk/details/health...  \n",
      "\n",
      "[3208 rows x 15 columns]\n"
     ]
    }
   ],
   "source": [
    "print(data)"
   ]
  },
  {
   "cell_type": "code",
   "execution_count": 61,
   "metadata": {},
   "outputs": [],
   "source": [
    "columnas=data.iloc[:, 4] #Seleccionamos la columna de people_vaccinated"
   ]
  },
  {
   "cell_type": "code",
   "execution_count": 62,
   "metadata": {},
   "outputs": [
    {
     "data": {
      "text/plain": [
       "0            0.0\n",
       "1            NaN\n",
       "2          128.0\n",
       "3          188.0\n",
       "4          266.0\n",
       "          ...   \n",
       "3203    684097.0\n",
       "3204    715944.0\n",
       "3205    749445.0\n",
       "3206    771651.0\n",
       "3207    784809.0\n",
       "Name: people_vaccinated, Length: 3208, dtype: float64"
      ]
     },
     "execution_count": 62,
     "metadata": {},
     "output_type": "execute_result"
    }
   ],
   "source": [
    "columnas"
   ]
  },
  {
   "cell_type": "code",
   "execution_count": 63,
   "metadata": {},
   "outputs": [],
   "source": [
    "columnas=np.array(columnas)  #Creamos array con valores de la columna indicada"
   ]
  },
  {
   "cell_type": "code",
   "execution_count": 64,
   "metadata": {},
   "outputs": [
    {
     "name": "stdout",
     "output_type": "stream",
     "text": [
      "(3208,)\n"
     ]
    }
   ],
   "source": [
    "print(columnas.shape)#Se trata de una array de 3208 filas"
   ]
  },
  {
   "cell_type": "code",
   "execution_count": 65,
   "metadata": {},
   "outputs": [],
   "source": [
    "nan_values=np.argwhere(np.isnan(columnas))"
   ]
  },
  {
   "cell_type": "code",
   "execution_count": 66,
   "metadata": {},
   "outputs": [
    {
     "name": "stdout",
     "output_type": "stream",
     "text": [
      "(1481, 1)\n"
     ]
    }
   ],
   "source": [
    "print(nan_values.shape)#array con todos indices de los nan values"
   ]
  },
  {
   "cell_type": "code",
   "execution_count": 67,
   "metadata": {},
   "outputs": [
    {
     "data": {
      "text/plain": [
       "array([[   1],\n",
       "       [  12],\n",
       "       [  13],\n",
       "       ...,\n",
       "       [3171],\n",
       "       [3177],\n",
       "       [3178]])"
      ]
     },
     "execution_count": 67,
     "metadata": {},
     "output_type": "execute_result"
    }
   ],
   "source": [
    "nan_values"
   ]
  },
  {
   "cell_type": "code",
   "execution_count": 70,
   "metadata": {},
   "outputs": [
    {
     "data": {
      "text/plain": [
       "array([0.00000e+00,         nan, 1.28000e+02, ..., 7.49445e+05,\n",
       "       7.71651e+05, 7.84809e+05])"
      ]
     },
     "execution_count": 70,
     "metadata": {},
     "output_type": "execute_result"
    }
   ],
   "source": [
    "columnas"
   ]
  },
  {
   "cell_type": "code",
   "execution_count": 71,
   "metadata": {},
   "outputs": [
    {
     "ename": "IndexError",
     "evalue": "only integers, slices (`:`), ellipsis (`...`), numpy.newaxis (`None`) and integer or boolean arrays are valid indices",
     "output_type": "error",
     "traceback": [
      "\u001b[0;31m---------------------------------------------------------------------------\u001b[0m",
      "\u001b[0;31mIndexError\u001b[0m                                Traceback (most recent call last)",
      "\u001b[0;32m<ipython-input-71-189f59dfd2c7>\u001b[0m in \u001b[0;36m<module>\u001b[0;34m\u001b[0m\n\u001b[1;32m      1\u001b[0m \u001b[0;32mfor\u001b[0m \u001b[0mx\u001b[0m \u001b[0;32min\u001b[0m \u001b[0mcolumnas\u001b[0m\u001b[0;34m:\u001b[0m\u001b[0;34m\u001b[0m\u001b[0;34m\u001b[0m\u001b[0m\n\u001b[0;32m----> 2\u001b[0;31m     \u001b[0;32mif\u001b[0m \u001b[0mcolumnas\u001b[0m\u001b[0;34m[\u001b[0m\u001b[0mx\u001b[0m\u001b[0;34m]\u001b[0m\u001b[0;34m==\u001b[0m\u001b[0;34m\"nan\"\u001b[0m\u001b[0;34m:\u001b[0m\u001b[0;34m\u001b[0m\u001b[0;34m\u001b[0m\u001b[0m\n\u001b[0m\u001b[1;32m      3\u001b[0m         \u001b[0mcolumnas\u001b[0m\u001b[0;34m[\u001b[0m\u001b[0mx\u001b[0m\u001b[0;34m]\u001b[0m\u001b[0;34m=\u001b[0m\u001b[0;34m-\u001b[0m\u001b[0;36m1\u001b[0m\u001b[0;34m\u001b[0m\u001b[0;34m\u001b[0m\u001b[0m\n",
      "\u001b[0;31mIndexError\u001b[0m: only integers, slices (`:`), ellipsis (`...`), numpy.newaxis (`None`) and integer or boolean arrays are valid indices"
     ]
    }
   ],
   "source": [
    "for x in columnas:\n",
    "    for i in nan_values:\n",
    "        columnas=np.where(columnas(x)==nan_values(i))\n",
    "        columnas[x]=-1"
   ]
  },
  {
   "cell_type": "code",
   "execution_count": 72,
   "metadata": {},
   "outputs": [
    {
     "ename": "AttributeError",
     "evalue": "'numpy.ndarray' object has no attribute 'fillna'",
     "output_type": "error",
     "traceback": [
      "\u001b[0;31m---------------------------------------------------------------------------\u001b[0m",
      "\u001b[0;31mAttributeError\u001b[0m                            Traceback (most recent call last)",
      "\u001b[0;32m<ipython-input-72-8456109be0ea>\u001b[0m in \u001b[0;36m<module>\u001b[0;34m\u001b[0m\n\u001b[0;32m----> 1\u001b[0;31m \u001b[0mcolumnas\u001b[0m\u001b[0;34m.\u001b[0m\u001b[0mfillna\u001b[0m\u001b[0;34m(\u001b[0m\u001b[0;36m2\u001b[0m\u001b[0;34m)\u001b[0m\u001b[0;34m\u001b[0m\u001b[0;34m\u001b[0m\u001b[0m\n\u001b[0m",
      "\u001b[0;31mAttributeError\u001b[0m: 'numpy.ndarray' object has no attribute 'fillna'"
     ]
    }
   ],
   "source": [
    "columnas.fillna(2) #sin estar en array"
   ]
  },
  {
   "cell_type": "code",
   "execution_count": null,
   "metadata": {},
   "outputs": [],
   "source": []
  }
 ],
 "metadata": {
  "kernelspec": {
   "display_name": "Python 3",
   "language": "python",
   "name": "python3"
  },
  "language_info": {
   "codemirror_mode": {
    "name": "ipython",
    "version": 3
   },
   "file_extension": ".py",
   "mimetype": "text/x-python",
   "name": "python",
   "nbconvert_exporter": "python",
   "pygments_lexer": "ipython3",
   "version": "3.8.5"
  }
 },
 "nbformat": 4,
 "nbformat_minor": 2
}
